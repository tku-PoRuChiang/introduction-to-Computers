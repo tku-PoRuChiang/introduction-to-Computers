{
  "nbformat": 4,
  "nbformat_minor": 0,
  "metadata": {
    "colab": {
      "provenance": [],
      "authorship_tag": "ABX9TyMFyL2VeONGOwHYwI3S2niz",
      "include_colab_link": true
    },
    "kernelspec": {
      "name": "python3",
      "display_name": "Python 3"
    },
    "language_info": {
      "name": "python"
    }
  },
  "cells": [
    {
      "cell_type": "markdown",
      "metadata": {
        "id": "view-in-github",
        "colab_type": "text"
      },
      "source": [
        "<a href=\"https://colab.research.google.com/github/tku-PoRuChiang/introduction-to-Computers/blob/main/0515.ipynb\" target=\"_parent\"><img src=\"https://colab.research.google.com/assets/colab-badge.svg\" alt=\"Open In Colab\"/></a>"
      ]
    },
    {
      "cell_type": "code",
      "execution_count": 1,
      "metadata": {
        "colab": {
          "base_uri": "https://localhost:8080/"
        },
        "id": "IrDHv4aotYvx",
        "outputId": "cdb30a24-56cf-40aa-8afe-e4ba9ad99df3"
      },
      "outputs": [
        {
          "output_type": "stream",
          "name": "stdout",
          "text": [
            "0515\n"
          ]
        }
      ],
      "source": [
        "print(\"0515\")"
      ]
    },
    {
      "cell_type": "code",
      "source": [
        "rain=str(input(\"今天會下雨嗎?\"))\n",
        "if(rain==\"y\" or rain==\"Y\"):\n",
        "  print(\"出門記得帶傘!\")\n",
        "elif(rain==\"n\" or rain==\"N\"):\n",
        "  print(\"今天天氣很好，出門不用帶傘\")\n",
        "else:\n",
        "  print(\"輸入錯誤\")"
      ],
      "metadata": {
        "colab": {
          "base_uri": "https://localhost:8080/"
        },
        "id": "U3tzyEZAt3XI",
        "outputId": "80fcaf9a-1c2e-479c-de06-74962d6b6348"
      },
      "execution_count": 5,
      "outputs": [
        {
          "output_type": "stream",
          "name": "stdout",
          "text": [
            "今天會下雨嗎?n\n",
            "今天天氣很好，出門不用帶傘\n"
          ]
        }
      ]
    },
    {
      "cell_type": "code",
      "source": [
        "rain=str(input(\"今天會下雨嗎?\"))\n",
        "if(rain==\"y\" or rain==\"Y\"):\n",
        "  print(\"出門記得帶傘!\")\n",
        "elif(rain==\"n\" or rain==\"N\"):\n",
        "  print(\"今天天氣很好，出門不用帶傘\")\n",
        "else:\n",
        "  print(\"輸入錯誤\")"
      ],
      "metadata": {
        "colab": {
          "base_uri": "https://localhost:8080/"
        },
        "id": "ye_mgCGdvKxx",
        "outputId": "0fb29325-b91d-48f5-fe81-9f3dec6699ea"
      },
      "execution_count": 6,
      "outputs": [
        {
          "output_type": "stream",
          "name": "stdout",
          "text": [
            "今天會下雨嗎?s\n",
            "輸入錯誤\n"
          ]
        }
      ]
    },
    {
      "cell_type": "code",
      "source": [
        "temperature=float(input(\"請輸入體溫\"))\n",
        "if(temperature>=37.5):\n",
        "  print(\"體溫過高!\")\n",
        "elif(37.4>temperature>37):\n",
        "  print(\"體溫略高!\")\n",
        "elif(36.9>temperature>34):\n",
        "  print(\"體溫正常!\")\n",
        "else:\n",
        "  print(\"體溫異常，請重新量測\")"
      ],
      "metadata": {
        "colab": {
          "base_uri": "https://localhost:8080/"
        },
        "id": "FEB5tMbAwRoH",
        "outputId": "501c80b6-7c12-4e36-9341-bddeee5f3478"
      },
      "execution_count": 7,
      "outputs": [
        {
          "output_type": "stream",
          "name": "stdout",
          "text": [
            "請輸入體溫30\n",
            "體溫異常，請重新量測\n"
          ]
        }
      ]
    },
    {
      "cell_type": "code",
      "source": [
        "score=int(input(\"請輸入成績\"))\n",
        "if(score>=90):\n",
        "  print(\"A\")\n",
        "elif(89>score>80):\n",
        "  print(\"B\")\n",
        "elif(79>score>70):\n",
        "  print(\"C\")\n",
        "elif(69>score>60):\n",
        "  print(\"D\")\n",
        "else:\n",
        "  print(\"E\")"
      ],
      "metadata": {
        "colab": {
          "base_uri": "https://localhost:8080/"
        },
        "id": "I4hJynmPxROH",
        "outputId": "434d7313-f84f-432a-d619-193c4b19949f"
      },
      "execution_count": 8,
      "outputs": [
        {
          "output_type": "stream",
          "name": "stdout",
          "text": [
            "請輸入成績90\n",
            "A\n"
          ]
        }
      ]
    },
    {
      "cell_type": "code",
      "source": [
        "month=int(input(\"請輸入月份:\"))\n",
        "if(month in [3,4,5]):\n",
        "  print(f\"{month}月是春天!\")\n",
        "elif(month in [6,7,8]):\n",
        "  print(f\"{month}月是夏天!\")\n",
        "elif(month in [9,10,11]):\n",
        "  print(f\"{month}月是秋天!\")\n",
        "elif(month in [12,1,2]):\n",
        "  print(f\"{month}月是冬天!\")\n",
        "else:\n",
        "  print(\"月份不在範圍內。\")"
      ],
      "metadata": {
        "colab": {
          "base_uri": "https://localhost:8080/"
        },
        "id": "VLwphn8tyFe2",
        "outputId": "a20bc56a-6b8e-4651-884e-dfddb7230a42"
      },
      "execution_count": 11,
      "outputs": [
        {
          "output_type": "stream",
          "name": "stdout",
          "text": [
            "請輸入月份:15\n",
            "月份不在範圍內。\n"
          ]
        }
      ]
    },
    {
      "cell_type": "code",
      "source": [
        "income=int(input(\"請輸入收入金額:\"))\n",
        "if(income>=2000000):\n",
        "  rate=0.3\n",
        "elif(income>=1000000):\n",
        "  rate=0.21\n",
        "elif(income>=600000):\n",
        "  rate=0.13\n",
        "elif(income>=300000):\n",
        "  rate=0.06\n",
        "\n",
        "else:\n",
        "  rate=0\n",
        "tax=income*rate\n",
        "print(f\"所得稅金額為:{tax}\")"
      ],
      "metadata": {
        "colab": {
          "base_uri": "https://localhost:8080/"
        },
        "id": "phZ_M45DyFl3",
        "outputId": "c80a6926-07ee-40f0-c22c-e4761c7a65ca"
      },
      "execution_count": 12,
      "outputs": [
        {
          "output_type": "stream",
          "name": "stdout",
          "text": [
            "請輸入收入金額:20000\n",
            "所得稅金額為:0\n"
          ]
        }
      ]
    }
  ]
}